{
  "cells": [
    {
      "cell_type": "markdown",
      "id": "LkeGDXu5G3Y-",
      "metadata": {
        "id": "LkeGDXu5G3Y-"
      },
      "source": [
        "## Assignment 5\n",
        "\n",
        "- **Name:** Aryan Paratakke \n",
        "- **PRN:** 22070521070\n",
        "- **Subject:** AI Lab\n",
        "- **Section:** C\n",
        "- **Batch:** 2022-26 \n"
      ]
    },
    {
      "cell_type": "markdown",
      "id": "cca6300a",
      "metadata": {},
      "source": [
        "### Sample Dataset"
      ]
    },
    {
      "cell_type": "code",
      "execution_count": 1,
      "id": "044d8b41",
      "metadata": {},
      "outputs": [],
      "source": [
        "text_data = \"Machine Learning (ML) is a subset of artificial intelligence that enables computers to learn from data and improve their performance on tasks without explicit programming. ML algorithms are widely applied in fields such as image recognition, fraud detection, recommendation systems, and autonomous vehicles. The learning process typically involves steps like data preprocessing, feature extraction, model training, and evaluation. Techniques such as supervised learning, unsupervised learning, and reinforcement learning play a key role in building effective ML models. Recent advancements in deep learning and large-scale datasets have significantly enhanced the capabilities of ML systems, making them more efficient and accurate. From personalized marketing to medical diagnosis, ML continues to revolutionize industries by enabling data-driven decision-making and automation. As research progresses, the future of ML holds promising innovations across various sectors, including healthcare, finance, and robotics.\"\n"
      ]
    },
    {
      "cell_type": "markdown",
      "id": "0eab52ce",
      "metadata": {},
      "source": [
        "### Importing Libraries"
      ]
    },
    {
      "cell_type": "code",
      "execution_count": 2,
      "id": "0e1112f0",
      "metadata": {},
      "outputs": [],
      "source": [
        "import nltk\n",
        "from nltk.tokenize import word_tokenize, sent_tokenize\n",
        "from nltk.corpus import stopwords\n",
        "from nltk.stem import PorterStemmer, WordNetLemmatizer\n"
      ]
    },
    {
      "cell_type": "markdown",
      "id": "b335ca8b",
      "metadata": {},
      "source": [
        "### Download required datasets"
      ]
    },
    {
      "cell_type": "code",
      "execution_count": 3,
      "id": "7ab8073b",
      "metadata": {},
      "outputs": [
        {
          "name": "stderr",
          "output_type": "stream",
          "text": [
            "[nltk_data] Downloading package punkt to\n",
            "[nltk_data]     C:\\Users\\ASUS\\AppData\\Roaming\\nltk_data...\n",
            "[nltk_data]   Package punkt is already up-to-date!\n",
            "[nltk_data] Downloading package stopwords to\n",
            "[nltk_data]     C:\\Users\\ASUS\\AppData\\Roaming\\nltk_data...\n",
            "[nltk_data]   Package stopwords is already up-to-date!\n",
            "[nltk_data] Downloading package wordnet to\n",
            "[nltk_data]     C:\\Users\\ASUS\\AppData\\Roaming\\nltk_data...\n",
            "[nltk_data]   Package wordnet is already up-to-date!\n",
            "[nltk_data] Downloading package omw-1.4 to\n",
            "[nltk_data]     C:\\Users\\ASUS\\AppData\\Roaming\\nltk_data...\n",
            "[nltk_data]   Package omw-1.4 is already up-to-date!\n"
          ]
        },
        {
          "data": {
            "text/plain": [
              "True"
            ]
          },
          "execution_count": 3,
          "metadata": {},
          "output_type": "execute_result"
        }
      ],
      "source": [
        "nltk.download('punkt')\n",
        "nltk.download('stopwords')\n",
        "nltk.download('wordnet')\n",
        "nltk.download('omw-1.4')\n"
      ]
    },
    {
      "cell_type": "markdown",
      "id": "c7f24153",
      "metadata": {},
      "source": [
        "### Tokenization"
      ]
    },
    {
      "cell_type": "code",
      "execution_count": 4,
      "id": "563e1689",
      "metadata": {},
      "outputs": [],
      "source": [
        "tokenized_words = word_tokenize(text_data)\n",
        "tokenized_sentences = sent_tokenize(text_data)"
      ]
    },
    {
      "cell_type": "markdown",
      "id": "ad533fdc",
      "metadata": {},
      "source": [
        "### Stopword Removal"
      ]
    },
    {
      "cell_type": "code",
      "execution_count": 6,
      "id": "438285e5",
      "metadata": {},
      "outputs": [],
      "source": [
        "stopword_list = set(stopwords.words('english'))\n",
        "filtered_tokens = [token for token in tokenized_words if token.lower() not in stopword_list]\n"
      ]
    },
    {
      "cell_type": "markdown",
      "id": "2c27abdb",
      "metadata": {},
      "source": [
        "### Stemming"
      ]
    },
    {
      "cell_type": "code",
      "execution_count": 7,
      "id": "c82aea99",
      "metadata": {},
      "outputs": [],
      "source": [
        "stemmer = PorterStemmer()\n",
        "stemmed_tokens = [stemmer.stem(token) for token in filtered_tokens]"
      ]
    },
    {
      "cell_type": "markdown",
      "id": "6ee5d982",
      "metadata": {},
      "source": [
        "### Lemmatization"
      ]
    },
    {
      "cell_type": "code",
      "execution_count": 8,
      "id": "6057bdfb",
      "metadata": {},
      "outputs": [],
      "source": [
        "lemmatizer = WordNetLemmatizer()\n",
        "lemmatized_tokens = [lemmatizer.lemmatize(token) for token in filtered_tokens]"
      ]
    },
    {
      "cell_type": "markdown",
      "id": "e9507c64",
      "metadata": {},
      "source": [
        "### Output Results"
      ]
    },
    {
      "cell_type": "code",
      "execution_count": 9,
      "id": "3b1508ad-b1d4-42d9-8f73-b2e71a2581f7",
      "metadata": {
        "colab": {
          "base_uri": "https://localhost:8080/"
        },
        "id": "3b1508ad-b1d4-42d9-8f73-b2e71a2581f7",
        "outputId": "3e1af6cc-df50-4857-8bb2-6d88d66b4e7c"
      },
      "outputs": [
        {
          "name": "stdout",
          "output_type": "stream",
          "text": [
            "Original Text: Machine Learning (ML) is a subset of artificial intelligence that enables computers to learn from data and improve their performance on tasks without explicit programming. ML algorithms are widely applied in fields such as image recognition, fraud detection, recommendation systems, and autonomous vehicles. The learning process typically involves steps like data preprocessing, feature extraction, model training, and evaluation. Techniques such as supervised learning, unsupervised learning, and reinforcement learning play a key role in building effective ML models. Recent advancements in deep learning and large-scale datasets have significantly enhanced the capabilities of ML systems, making them more efficient and accurate. From personalized marketing to medical diagnosis, ML continues to revolutionize industries by enabling data-driven decision-making and automation. As research progresses, the future of ML holds promising innovations across various sectors, including healthcare, finance, and robotics.\n",
            "\n",
            "Tokenized Words: ['Machine', 'Learning', '(', 'ML', ')', 'is', 'a', 'subset', 'of', 'artificial', 'intelligence', 'that', 'enables', 'computers', 'to', 'learn', 'from', 'data', 'and', 'improve', 'their', 'performance', 'on', 'tasks', 'without', 'explicit', 'programming', '.', 'ML', 'algorithms', 'are', 'widely', 'applied', 'in', 'fields', 'such', 'as', 'image', 'recognition', ',', 'fraud', 'detection', ',', 'recommendation', 'systems', ',', 'and', 'autonomous', 'vehicles', '.', 'The', 'learning', 'process', 'typically', 'involves', 'steps', 'like', 'data', 'preprocessing', ',', 'feature', 'extraction', ',', 'model', 'training', ',', 'and', 'evaluation', '.', 'Techniques', 'such', 'as', 'supervised', 'learning', ',', 'unsupervised', 'learning', ',', 'and', 'reinforcement', 'learning', 'play', 'a', 'key', 'role', 'in', 'building', 'effective', 'ML', 'models', '.', 'Recent', 'advancements', 'in', 'deep', 'learning', 'and', 'large-scale', 'datasets', 'have', 'significantly', 'enhanced', 'the', 'capabilities', 'of', 'ML', 'systems', ',', 'making', 'them', 'more', 'efficient', 'and', 'accurate', '.', 'From', 'personalized', 'marketing', 'to', 'medical', 'diagnosis', ',', 'ML', 'continues', 'to', 'revolutionize', 'industries', 'by', 'enabling', 'data-driven', 'decision-making', 'and', 'automation', '.', 'As', 'research', 'progresses', ',', 'the', 'future', 'of', 'ML', 'holds', 'promising', 'innovations', 'across', 'various', 'sectors', ',', 'including', 'healthcare', ',', 'finance', ',', 'and', 'robotics', '.']\n",
            "\n",
            "Tokenized Sentences: ['Machine Learning (ML) is a subset of artificial intelligence that enables computers to learn from data and improve their performance on tasks without explicit programming.', 'ML algorithms are widely applied in fields such as image recognition, fraud detection, recommendation systems, and autonomous vehicles.', 'The learning process typically involves steps like data preprocessing, feature extraction, model training, and evaluation.', 'Techniques such as supervised learning, unsupervised learning, and reinforcement learning play a key role in building effective ML models.', 'Recent advancements in deep learning and large-scale datasets have significantly enhanced the capabilities of ML systems, making them more efficient and accurate.', 'From personalized marketing to medical diagnosis, ML continues to revolutionize industries by enabling data-driven decision-making and automation.', 'As research progresses, the future of ML holds promising innovations across various sectors, including healthcare, finance, and robotics.']\n",
            "\n",
            "Filtered Words (Stopword Removal): ['Machine', 'Learning', '(', 'ML', ')', 'subset', 'artificial', 'intelligence', 'enables', 'computers', 'learn', 'data', 'improve', 'performance', 'tasks', 'without', 'explicit', 'programming', '.', 'ML', 'algorithms', 'widely', 'applied', 'fields', 'image', 'recognition', ',', 'fraud', 'detection', ',', 'recommendation', 'systems', ',', 'autonomous', 'vehicles', '.', 'learning', 'process', 'typically', 'involves', 'steps', 'like', 'data', 'preprocessing', ',', 'feature', 'extraction', ',', 'model', 'training', ',', 'evaluation', '.', 'Techniques', 'supervised', 'learning', ',', 'unsupervised', 'learning', ',', 'reinforcement', 'learning', 'play', 'key', 'role', 'building', 'effective', 'ML', 'models', '.', 'Recent', 'advancements', 'deep', 'learning', 'large-scale', 'datasets', 'significantly', 'enhanced', 'capabilities', 'ML', 'systems', ',', 'making', 'efficient', 'accurate', '.', 'personalized', 'marketing', 'medical', 'diagnosis', ',', 'ML', 'continues', 'revolutionize', 'industries', 'enabling', 'data-driven', 'decision-making', 'automation', '.', 'research', 'progresses', ',', 'future', 'ML', 'holds', 'promising', 'innovations', 'across', 'various', 'sectors', ',', 'including', 'healthcare', ',', 'finance', ',', 'robotics', '.']\n",
            "\n",
            "Stemmed Words: ['machin', 'learn', '(', 'ml', ')', 'subset', 'artifici', 'intellig', 'enabl', 'comput', 'learn', 'data', 'improv', 'perform', 'task', 'without', 'explicit', 'program', '.', 'ml', 'algorithm', 'wide', 'appli', 'field', 'imag', 'recognit', ',', 'fraud', 'detect', ',', 'recommend', 'system', ',', 'autonom', 'vehicl', '.', 'learn', 'process', 'typic', 'involv', 'step', 'like', 'data', 'preprocess', ',', 'featur', 'extract', ',', 'model', 'train', ',', 'evalu', '.', 'techniqu', 'supervis', 'learn', ',', 'unsupervis', 'learn', ',', 'reinforc', 'learn', 'play', 'key', 'role', 'build', 'effect', 'ml', 'model', '.', 'recent', 'advanc', 'deep', 'learn', 'large-scal', 'dataset', 'significantli', 'enhanc', 'capabl', 'ml', 'system', ',', 'make', 'effici', 'accur', '.', 'person', 'market', 'medic', 'diagnosi', ',', 'ml', 'continu', 'revolution', 'industri', 'enabl', 'data-driven', 'decision-mak', 'autom', '.', 'research', 'progress', ',', 'futur', 'ml', 'hold', 'promis', 'innov', 'across', 'variou', 'sector', ',', 'includ', 'healthcar', ',', 'financ', ',', 'robot', '.']\n",
            "\n",
            "Lemmatized Words: ['Machine', 'Learning', '(', 'ML', ')', 'subset', 'artificial', 'intelligence', 'enables', 'computer', 'learn', 'data', 'improve', 'performance', 'task', 'without', 'explicit', 'programming', '.', 'ML', 'algorithm', 'widely', 'applied', 'field', 'image', 'recognition', ',', 'fraud', 'detection', ',', 'recommendation', 'system', ',', 'autonomous', 'vehicle', '.', 'learning', 'process', 'typically', 'involves', 'step', 'like', 'data', 'preprocessing', ',', 'feature', 'extraction', ',', 'model', 'training', ',', 'evaluation', '.', 'Techniques', 'supervised', 'learning', ',', 'unsupervised', 'learning', ',', 'reinforcement', 'learning', 'play', 'key', 'role', 'building', 'effective', 'ML', 'model', '.', 'Recent', 'advancement', 'deep', 'learning', 'large-scale', 'datasets', 'significantly', 'enhanced', 'capability', 'ML', 'system', ',', 'making', 'efficient', 'accurate', '.', 'personalized', 'marketing', 'medical', 'diagnosis', ',', 'ML', 'continues', 'revolutionize', 'industry', 'enabling', 'data-driven', 'decision-making', 'automation', '.', 'research', 'progress', ',', 'future', 'ML', 'hold', 'promising', 'innovation', 'across', 'various', 'sector', ',', 'including', 'healthcare', ',', 'finance', ',', 'robotics', '.']\n"
          ]
        }
      ],
      "source": [
        "print(\"Original Text:\", text_data)\n",
        "print(\"\\nTokenized Words:\", tokenized_words)\n",
        "print(\"\\nTokenized Sentences:\", tokenized_sentences)\n",
        "print(\"\\nFiltered Words (Stopword Removal):\", filtered_tokens)\n",
        "print(\"\\nStemmed Words:\", stemmed_tokens)\n",
        "print(\"\\nLemmatized Words:\", lemmatized_tokens)"
      ]
    },
    {
      "cell_type": "code",
      "execution_count": null,
      "id": "b36ba5ee",
      "metadata": {},
      "outputs": [],
      "source": []
    }
  ],
  "metadata": {
    "colab": {
      "provenance": []
    },
    "kernelspec": {
      "display_name": "venv",
      "language": "python",
      "name": "python3"
    },
    "language_info": {
      "codemirror_mode": {
        "name": "ipython",
        "version": 3
      },
      "file_extension": ".py",
      "mimetype": "text/x-python",
      "name": "python",
      "nbconvert_exporter": "python",
      "pygments_lexer": "ipython3",
      "version": "3.10.7"
    }
  },
  "nbformat": 4,
  "nbformat_minor": 5
}
